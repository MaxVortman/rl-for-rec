{
 "cells": [
  {
   "cell_type": "code",
   "execution_count": 20,
   "metadata": {},
   "outputs": [],
   "source": [
    "import torch\n",
    "import torch.nn as nn\n",
    "import pandas as pd\n",
    "import numpy as np"
   ]
  },
  {
   "cell_type": "code",
   "execution_count": 3,
   "metadata": {},
   "outputs": [],
   "source": [
    "train = pd.read_csv(\"prepared_data/train.csv\")"
   ]
  },
  {
   "cell_type": "code",
   "execution_count": 4,
   "metadata": {},
   "outputs": [],
   "source": [
    "grouped_and_sorted = train.groupby(\"uid\").apply(lambda x: list(x.sort_values(by=[\"date\"])[\"sid\"]))"
   ]
  },
  {
   "cell_type": "code",
   "execution_count": 5,
   "metadata": {},
   "outputs": [],
   "source": [
    "shuffled = grouped_and_sorted.sample(frac=1)"
   ]
  },
  {
   "cell_type": "code",
   "execution_count": 11,
   "metadata": {},
   "outputs": [],
   "source": [
    "sequences = shuffled.values"
   ]
  },
  {
   "cell_type": "code",
   "execution_count": 17,
   "metadata": {},
   "outputs": [],
   "source": [
    "rewards = [[1 for _ in s] for s in sequences]"
   ]
  },
  {
   "cell_type": "code",
   "execution_count": 29,
   "metadata": {},
   "outputs": [],
   "source": [
    "def rolling_window(a, window):\n",
    "    a = np.array(a)\n",
    "    shape = a.shape[:-1] + (a.shape[-1] - window + 1, window)\n",
    "    strides = a.strides + (a.strides[-1],)\n",
    "    return np.lib.stride_tricks.as_strided(a, shape=shape, strides=strides)"
   ]
  },
  {
   "cell_type": "code",
   "execution_count": 40,
   "metadata": {},
   "outputs": [],
   "source": [
    "sizes = [len(s) for s in sequences]"
   ]
  },
  {
   "cell_type": "code",
   "execution_count": 30,
   "metadata": {},
   "outputs": [],
   "source": [
    "frame_size = 5"
   ]
  },
  {
   "cell_type": "code",
   "execution_count": 36,
   "metadata": {},
   "outputs": [],
   "source": [
    "sequences_t = np.concatenate([rolling_window(i, frame_size + 1) for i in sequences], 0)"
   ]
  },
  {
   "cell_type": "code",
   "execution_count": 37,
   "metadata": {},
   "outputs": [
    {
     "data": {
      "text/plain": [
       "(45122519, 6)"
      ]
     },
     "execution_count": 37,
     "metadata": {},
     "output_type": "execute_result"
    }
   ],
   "source": [
    "sequences_t.shape"
   ]
  },
  {
   "cell_type": "code",
   "execution_count": 38,
   "metadata": {},
   "outputs": [],
   "source": [
    "rewards_t = np.concatenate([rolling_window(i, frame_size + 1) for i in rewards], 0)"
   ]
  },
  {
   "cell_type": "code",
   "execution_count": 39,
   "metadata": {},
   "outputs": [
    {
     "data": {
      "text/plain": [
       "(45122519, 6)"
      ]
     },
     "execution_count": 39,
     "metadata": {},
     "output_type": "execute_result"
    }
   ],
   "source": [
    "rewards_t.shape"
   ]
  },
  {
   "cell_type": "code",
   "execution_count": 45,
   "metadata": {},
   "outputs": [],
   "source": [
    "b_size = len(rewards_t)\n",
    "sizes_t = torch.tensor(sizes)\n",
    "done = torch.zeros(b_size)\n",
    "done[torch.cumsum(sizes_t - frame_size, dim=0) - 1] = 1"
   ]
  },
  {
   "cell_type": "code",
   "execution_count": 57,
   "metadata": {},
   "outputs": [
    {
     "data": {
      "text/plain": [
       "tensor([ 1305, 17155, 11281,  6970,  6690, 13649,     1,     1,     1,     1,\n",
       "            1,     1])"
      ]
     },
     "execution_count": 57,
     "metadata": {},
     "output_type": "execute_result"
    }
   ],
   "source": [
    "torch.cat([torch.tensor(sequences_t[0]), torch.tensor(rewards_t[0])], 0)"
   ]
  },
  {
   "cell_type": "code",
   "execution_count": 52,
   "metadata": {},
   "outputs": [
    {
     "data": {
      "text/plain": [
       "35"
      ]
     },
     "execution_count": 52,
     "metadata": {},
     "output_type": "execute_result"
    }
   ],
   "source": [
    "len(sequences[0])"
   ]
  },
  {
   "cell_type": "code",
   "execution_count": 53,
   "metadata": {},
   "outputs": [
    {
     "data": {
      "text/plain": [
       "tensor([0., 0., 0., 0., 0., 0., 0., 0., 0., 0., 0., 0., 0., 0., 0., 0., 0., 0.,\n",
       "        0., 0., 0., 0., 0., 0., 0., 0., 0., 0., 0., 1., 0., 0., 0., 0., 0.])"
      ]
     },
     "execution_count": 53,
     "metadata": {},
     "output_type": "execute_result"
    }
   ],
   "source": [
    "done[:35]"
   ]
  },
  {
   "cell_type": "code",
   "execution_count": 82,
   "metadata": {},
   "outputs": [],
   "source": [
    "class DQN(nn.Module):\n",
    "    def __init__(\n",
    "        self,\n",
    "        action_n: int,\n",
    "        embedding_dim: int,\n",
    "        seq_size: int,\n",
    "        ) -> None:\n",
    "        super(DQN, self).__init__()\n",
    "        \n",
    "        self.action_embedding = nn.Embedding(action_n, embedding_dim)\n",
    "        self.linears = nn.Sequential(\n",
    "            nn.Linear(seq_size * embedding_dim, 128),\n",
    "            nn.ReLU(),\n",
    "            nn.Linear(128, 128),\n",
    "            nn.ReLU(),\n",
    "            nn.Linear(128, action_n)\n",
    "        )\n",
    "\n",
    "    def forward(self, state):\n",
    "        x = self.action_embedding(state) # [B, S] -> [B, S, F]\n",
    "        x = x.view(state.size()[0], -1) # [B, S, F] -> [B, F]\n",
    "        x = self.linears(x)\n",
    "        return x"
   ]
  },
  {
   "cell_type": "code",
   "execution_count": 94,
   "metadata": {},
   "outputs": [
    {
     "data": {
      "text/plain": [
       "0"
      ]
     },
     "execution_count": 94,
     "metadata": {},
     "output_type": "execute_result"
    }
   ],
   "source": [
    "train[\"sid\"].min()"
   ]
  },
  {
   "cell_type": "code",
   "execution_count": 83,
   "metadata": {},
   "outputs": [],
   "source": [
    "model = DQN(action_n=len(train[\"sid\"].unique()), embedding_dim=32, seq_size=5)"
   ]
  },
  {
   "cell_type": "code",
   "execution_count": 87,
   "metadata": {},
   "outputs": [],
   "source": [
    "state = (torch.tensor(sequences_t[0])[:-1]).unsqueeze(0)\n",
    "action = (torch.tensor(sequences_t[0])[-1]).unsqueeze(0)"
   ]
  },
  {
   "cell_type": "code",
   "execution_count": 88,
   "metadata": {},
   "outputs": [],
   "source": [
    "q_values = model(state)"
   ]
  },
  {
   "cell_type": "code",
   "execution_count": 91,
   "metadata": {},
   "outputs": [
    {
     "data": {
      "text/plain": [
       "tensor(0.0278, grad_fn=<SelectBackward0>)"
      ]
     },
     "execution_count": 91,
     "metadata": {},
     "output_type": "execute_result"
    }
   ],
   "source": [
    "q_values[0][13649]"
   ]
  },
  {
   "cell_type": "code",
   "execution_count": 89,
   "metadata": {},
   "outputs": [
    {
     "data": {
      "text/plain": [
       "tensor([0.0278], grad_fn=<SqueezeBackward1>)"
      ]
     },
     "execution_count": 89,
     "metadata": {},
     "output_type": "execute_result"
    }
   ],
   "source": [
    "q_values.gather(1, action.unsqueeze(1)).squeeze(1)"
   ]
  },
  {
   "cell_type": "code",
   "execution_count": 28,
   "metadata": {},
   "outputs": [],
   "source": [
    "class RecommendationOffPolicyTraining:\n",
    "    def __init__(self, data_path) -> None:\n",
    "        train = pd.read_csv(data_path)\n",
    "        self.data = train.groupby(\"uid\").apply(lambda x: list(x.sort_values(by=[\"date\"])[\"sid\"])).sample(frac=1)\n",
    "\n",
    "    def get_session(self):\n",
    "        return enumerate(self.data.index)\n",
    "\n",
    "    def observe(self, session):\n",
    "        actions = self.data.loc[session]\n",
    "        for i, action in enumerate(actions):\n",
    "            yield actions[:i], action, actions[:i + 1], 1, i == len(actions) - 1"
   ]
  },
  {
   "cell_type": "code",
   "execution_count": 29,
   "metadata": {},
   "outputs": [],
   "source": [
    "class RecommendationOffPolicyTest:\n",
    "    def __init__(self, tr_path, te_path) -> None:\n",
    "        self.tr = pd.read_csv(tr_path).groupby(\"uid\").apply(lambda x: list(x.sort_values(by=[\"date\"])[\"sid\"])).sample(frac=1)\n",
    "        self.te = pd.read_csv(te_path).groupby(\"uid\").apply(lambda x: list(x.sort_values(by=[\"date\"])[\"sid\"]))\n",
    "    \n",
    "    def get_session(self):\n",
    "        return enumerate(self.tr.index)\n",
    "    \n",
    "    def get_tr(self, session):\n",
    "        return self.tr.loc[session]\n",
    "\n",
    "    def get_te(self, session):\n",
    "        return self.te.loc[session]"
   ]
  },
  {
   "cell_type": "code",
   "execution_count": null,
   "metadata": {},
   "outputs": [],
   "source": [
    "class StateEncoding(nn.Model):\n",
    "    def __init__(\n",
    "        self, \n",
    "        embedding_size: int,\n",
    "        embedding_dim: int,\n",
    "        hidden_lstm_size: int,\n",
    "        padding_index: int = 0\n",
    "    ):\n",
    "        super(StateEncoding, self).__init__()\n",
    "        self.embedding = nn.Embedding(embedding_size, embedding_dim, padding_index=padding_index)\n",
    "        self.lstm = nn.LSTM(\n",
    "            input_size=embedding_dim,\n",
    "            hidden_size=hidden_lstm_size,\n",
    "            bias=True,\n",
    "            batch_first=True,\n",
    "            bidirectional=True,\n",
    "        )"
   ]
  },
  {
   "cell_type": "code",
   "execution_count": null,
   "metadata": {},
   "outputs": [],
   "source": [
    "class QLearningRecommendedSystem(nn.Model):\n",
    "    def __init__(\n",
    "        self,\n",
    "        embedding_size: int,\n",
    "        embedding_dim: int,\n",
    "        hidden_lstm_size: int,\n",
    "        ) -> None:\n",
    "        super(QLearningRecommendedSystem, self).__init__()\n",
    "        self.state_embedding = StateEncoding(embedding_size=embedding_size, embedding_dim=embedding_dim, hidden_lstm_size=hidden_lstm_size)\n",
    "        self.action_embedding = nn.Embedding(embedding_size, embedding_dim)\n"
   ]
  }
 ],
 "metadata": {
  "interpreter": {
   "hash": "21c9aa5199837a8593138ca3afe3bdf17b59ecbe9a7669c785feee9e65fa98e9"
  },
  "kernelspec": {
   "display_name": "Python 3 (ipykernel)",
   "language": "python",
   "name": "python3"
  },
  "language_info": {
   "codemirror_mode": {
    "name": "ipython",
    "version": 3
   },
   "file_extension": ".py",
   "mimetype": "text/x-python",
   "name": "python",
   "nbconvert_exporter": "python",
   "pygments_lexer": "ipython3",
   "version": "3.8.13"
  },
  "orig_nbformat": 4
 },
 "nbformat": 4,
 "nbformat_minor": 2
}
